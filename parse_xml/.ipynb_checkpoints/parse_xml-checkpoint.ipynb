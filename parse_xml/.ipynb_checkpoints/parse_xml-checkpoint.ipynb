{
 "cells": [
  {
   "cell_type": "code",
   "execution_count": 52,
   "metadata": {},
   "outputs": [
    {
     "name": "stdout",
     "output_type": "stream",
     "text": [
      "<Element 'BlastOutput' at 0x00000284F3363598>\n",
      "BlastOutput_program {}\n",
      "BlastOutput_version {}\n",
      "BlastOutput_reference {}\n",
      "BlastOutput_db {}\n",
      "BlastOutput_query-ID {}\n",
      "BlastOutput_query-def {}\n",
      "BlastOutput_query-len {}\n",
      "BlastOutput_param {}\n",
      "BlastOutput_iterations {}\n",
      "<Element 'Hit' at 0x00000284F3183548>\n"
     ]
    }
   ],
   "source": [
    "import xml.etree.ElementTree as ET\n",
    "tree = ET.parse('output.xml')\n",
    "root = tree.getroot()\n",
    "print (root)\n",
    "for child in root:\n",
    "    print (child.tag, child.attrib)\n",
    "\n",
    "print (root[8][0][4][0]) "
   ]
  },
  {
   "cell_type": "code",
   "execution_count": null,
   "metadata": {},
   "outputs": [],
   "source": []
  },
  {
   "cell_type": "code",
   "execution_count": 18,
   "metadata": {},
   "outputs": [],
   "source": []
  },
  {
   "cell_type": "code",
   "execution_count": null,
   "metadata": {
    "collapsed": true
   },
   "outputs": [],
   "source": []
  }
 ],
 "metadata": {
  "kernelspec": {
   "display_name": "Python 3",
   "language": "python",
   "name": "python3"
  },
  "language_info": {
   "codemirror_mode": {
    "name": "ipython",
    "version": 3
   },
   "file_extension": ".py",
   "mimetype": "text/x-python",
   "name": "python",
   "nbconvert_exporter": "python",
   "pygments_lexer": "ipython3",
   "version": "3.6.2"
  }
 },
 "nbformat": 4,
 "nbformat_minor": 2
}
