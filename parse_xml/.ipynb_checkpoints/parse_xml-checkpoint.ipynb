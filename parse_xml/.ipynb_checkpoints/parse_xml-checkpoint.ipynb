{
 "cells": [
  {
   "cell_type": "code",
   "execution_count": 1,
   "metadata": {},
   "outputs": [
    {
     "name": "stdout",
     "output_type": "stream",
     "text": [
      "BlastOutput {}\n"
     ]
    }
   ],
   "source": [
    "import xml.etree.ElementTree as ET\n",
    "# module parseing xml file\n",
    "\n",
    "tree = ET.parse('output.xml')\n",
    "root = tree.getroot()\n",
    "print (root.tag, root.attrib)\n",
    "## check the root(element): .tag and .attrib\n",
    "\n",
    "#for child in root:\n",
    "#    print (child.tag, child.attrib)\n",
    "## check how many children under root\n",
    "\n",
    "#print (root[8][0][4][0].tag)    \n",
    "#print (root[8][0][4][0][2].tag) \n",
    "#print (root[8][0][4][0][2].text) \n",
    "## try to locate the content I need from this file\n",
    "\n",
    "elem_list = []\n",
    "## create an empty list for all element tags\n",
    "for elem in root.iter():\n",
    "    elem_list.append(elem.tag)\n",
    "    ## collect all element tags into a list\n",
    "    #print(elemlist)\n",
    "N = elem_list.count('Hit')\n",
    "#print (N)\n",
    "## count the occurrences of 'Hit' tag in the list\n",
    "## use the number to determine range\n",
    "\n",
    "target_list = [ ]\n",
    "## create an empty list for genome names collection\n",
    "\n",
    "for idx in range(N):\n",
    "    target_list.append(root[8][0][4][idx][2].text)\n",
    "    ## collect all genome names into a list\n",
    "#print (target_list)\n"
   ]
  },
  {
   "cell_type": "code",
   "execution_count": 3,
   "metadata": {},
   "outputs": [
    {
     "name": "stdout",
     "output_type": "stream",
     "text": [
      "ArpA protein [Streptomyces cattleya] >gi|337763364|emb|CCB72072.1| ArpA protein (plasmid) [Streptomyces cattleya NRRL 8057 = DSM 46488]\n"
     ]
    },
    {
     "ename": "NameError",
     "evalue": "name 'targetlist' is not defined",
     "output_type": "error",
     "traceback": [
      "\u001b[1;31m---------------------------------------------------------------------------\u001b[0m",
      "\u001b[1;31mNameError\u001b[0m                                 Traceback (most recent call last)",
      "\u001b[1;32m<ipython-input-3-c455b2d9f354>\u001b[0m in \u001b[0;36m<module>\u001b[1;34m()\u001b[0m\n\u001b[0;32m     11\u001b[0m \u001b[1;32mfor\u001b[0m \u001b[0midx\u001b[0m \u001b[1;32min\u001b[0m \u001b[0mrange\u001b[0m\u001b[1;33m(\u001b[0m\u001b[0mN\u001b[0m\u001b[1;33m)\u001b[0m\u001b[1;33m:\u001b[0m\u001b[1;33m\u001b[0m\u001b[0m\n\u001b[0;32m     12\u001b[0m     \u001b[0mspace\u001b[0m \u001b[1;33m=\u001b[0m \u001b[0mspecies_list\u001b[0m\u001b[1;33m[\u001b[0m\u001b[0midx\u001b[0m\u001b[1;33m]\u001b[0m\u001b[1;33m.\u001b[0m\u001b[0mfind\u001b[0m\u001b[1;33m(\u001b[0m\u001b[1;34m' '\u001b[0m\u001b[1;33m)\u001b[0m\u001b[1;33m\u001b[0m\u001b[0m\n\u001b[1;32m---> 13\u001b[1;33m     \u001b[0mspecies_list\u001b[0m\u001b[1;33m.\u001b[0m\u001b[0mappend\u001b[0m\u001b[1;33m(\u001b[0m\u001b[0mtargetlist\u001b[0m\u001b[1;33m[\u001b[0m\u001b[0midx\u001b[0m\u001b[1;33m]\u001b[0m\u001b[1;33m[\u001b[0m\u001b[1;33m:\u001b[0m\u001b[0mspace\u001b[0m\u001b[1;33m]\u001b[0m\u001b[1;33m)\u001b[0m\u001b[1;33m\u001b[0m\u001b[0m\n\u001b[0m\u001b[0;32m     14\u001b[0m \u001b[1;33m\u001b[0m\u001b[0m\n\u001b[0;32m     15\u001b[0m \u001b[0mprint\u001b[0m \u001b[1;33m(\u001b[0m\u001b[0mgenus_list\u001b[0m\u001b[1;33m)\u001b[0m\u001b[1;33m\u001b[0m\u001b[0m\n",
      "\u001b[1;31mNameError\u001b[0m: name 'targetlist' is not defined"
     ]
    }
   ],
   "source": [
    "print (target_list[0])\n",
    "\n",
    "species_list = []\n",
    "for idx in range(N):\n",
    "    left  = target_list[idx].find('[')\n",
    "    right = target_list[idx].find(']')\n",
    "    species_list.append(target_list[idx][left+1:right])\n",
    "#print (species_list)\n",
    "\n",
    "genus_list = []\n",
    "for idx in range(N):\n",
    "    space = species_list[idx].find(' ')\n",
    "    species_list.append(target_list[idx][:space])\n",
    "\n",
    "print (genus_list)"
   ]
  },
  {
   "cell_type": "code",
   "execution_count": null,
   "metadata": {
    "collapsed": true
   },
   "outputs": [],
   "source": []
  },
  {
   "cell_type": "code",
   "execution_count": null,
   "metadata": {
    "collapsed": true
   },
   "outputs": [],
   "source": []
  }
 ],
 "metadata": {
  "kernelspec": {
   "display_name": "Python 3",
   "language": "python",
   "name": "python3"
  },
  "language_info": {
   "codemirror_mode": {
    "name": "ipython",
    "version": 3
   },
   "file_extension": ".py",
   "mimetype": "text/x-python",
   "name": "python",
   "nbconvert_exporter": "python",
   "pygments_lexer": "ipython3",
   "version": "3.6.2"
  }
 },
 "nbformat": 4,
 "nbformat_minor": 2
}
