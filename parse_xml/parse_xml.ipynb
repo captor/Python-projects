{
 "cells": [
  {
   "cell_type": "code",
   "execution_count": 1,
   "metadata": {},
   "outputs": [
    {
     "name": "stdout",
     "output_type": "stream",
     "text": [
      "BlastOutput {}\n"
     ]
    }
   ],
   "source": [
    "## The purpose here is to parse blast.xml output to generate a list of hit-species\n",
    "## The list of hit-species or hit-genus will be used to batch-download specified genomes from NCBI\n",
    "\n",
    "\n",
    "import xml.etree.ElementTree as ET\n",
    "## module parseing xml file\n",
    "\n",
    "\n",
    "tree = ET.parse('output.xml')\n",
    "root = tree.getroot()\n",
    "print (root.tag, root.attrib)\n",
    "## check the root(element): .tag and .attrib\n",
    "\n",
    "#for child in root:\n",
    "#    print (child.tag, child.attrib)\n",
    "## check how many children under root\n",
    "\n",
    "#print (root[8][0][4][0].tag)    \n",
    "#print (root[8][0][4][0][2].tag) \n",
    "#print (root[8][0][4][0][2].text) \n",
    "## try to locate the content I need from this file\n",
    "\n",
    "elem_list = []\n",
    "## create an empty list for all element tags\n",
    "for elem in root.iter():\n",
    "    elem_list.append(elem.tag)\n",
    "    ## collect all element tags into a list\n",
    "    #print(elemlist)\n",
    "N = elem_list.count('Hit')\n",
    "#print (N)\n",
    "## count the occurrences of 'Hit' tag in the list\n",
    "## use the number to determine range\n",
    "\n",
    "target_list = [ ]\n",
    "## create an empty list for genome names collection\n",
    "\n",
    "for idx in range(N):\n",
    "    target_list.append(root[8][0][4][idx][2].text)\n",
    "    ## collect all Hit_def contents into a list\n",
    "#print (target_list)\n"
   ]
  },
  {
   "cell_type": "code",
   "execution_count": 2,
   "metadata": {},
   "outputs": [
    {
     "name": "stdout",
     "output_type": "stream",
     "text": [
      "ArpA protein [Streptomyces cattleya] >gi|337763364|emb|CCB72072.1| ArpA protein (plasmid) [Streptomyces cattleya NRRL 8057 = DSM 46488]\n",
      "92\n"
     ]
    }
   ],
   "source": [
    "print (target_list[0])\n",
    "## take a look of the content \n",
    "\n",
    "species_list = []\n",
    "for idx in range(N):\n",
    "    left  = target_list[idx].find('[')\n",
    "    right = target_list[idx].find(']')\n",
    "    species_list.append(target_list[idx][left+1:right])\n",
    "#print (species_list)\n",
    "## collect only the species names inside of '[ ]'\n",
    "\n",
    "genus_list = []\n",
    "for idx in range(N):\n",
    "    space = species_list[idx].find(' ')\n",
    "    genus_list.append(species_list[idx][:space])\n",
    "#print (genus_list)\n",
    "## collect only the genus names\n",
    "\n",
    "newlist = []\n",
    "for genus in genus_list:\n",
    "    if genus not in newlist:\n",
    "        newlist.append(genus)\n",
    "## remove reduntant genes names in the list\n",
    "        \n",
    "newlist.remove('Type-C')\n",
    "newlist.remove('Type-D')\n",
    "newlist.remove('Type-E')\n",
    "newlist.remove('Type-F')\n",
    "## there are weird names ... stupidly remove by this step\n",
    "#print (newlist)\n",
    "print (len(newlist))"
   ]
  },
  {
   "cell_type": "code",
   "execution_count": 4,
   "metadata": {
    "collapsed": true
   },
   "outputs": [],
   "source": [
    "#file = open('genus_list.txt','w') \n",
    "\n",
    "#for item in newlist:\n",
    "#    file.write(item + ',') \n",
    "\n",
    "#file.close() "
   ]
  },
  {
   "cell_type": "code",
   "execution_count": 14,
   "metadata": {
    "collapsed": true
   },
   "outputs": [],
   "source": [
    "import subprocess as sp\n",
    " \n",
    "proc = sp.Popen(['ncbi-genome-download', '-s', 'genbank', '-g', str(newlist[30]), 'bacteria', '-o', 'test6'])\n",
    "\n",
    "## done with 91 - 51 - 41 - 31 - 21 - 11\n",
    "\n",
    "#for g_idx in newlist:\n",
    "#    proc = sp.Popen(['ncbi-genome-download', '-s', 'genbank', '-g', str(g_idx), 'bacteria', '-o', 'test'])"
   ]
  },
  {
   "cell_type": "code",
   "execution_count": 8,
   "metadata": {
    "collapsed": true
   },
   "outputs": [],
   "source": [
    "import subprocess as sp\n",
    "\n",
    "for i in range(0,6):\n",
    "    proc = sp.Popen(['ncbi-genome-download', '-s', 'genbank', '-g', str(newlist[i]), 'bacteria', '-o', 'test8'])"
   ]
  },
  {
   "cell_type": "code",
   "execution_count": null,
   "metadata": {
    "collapsed": true
   },
   "outputs": [],
   "source": []
  }
 ],
 "metadata": {
  "kernelspec": {
   "display_name": "Python 3",
   "language": "python",
   "name": "python3"
  },
  "language_info": {
   "codemirror_mode": {
    "name": "ipython",
    "version": 3
   },
   "file_extension": ".py",
   "mimetype": "text/x-python",
   "name": "python",
   "nbconvert_exporter": "python",
   "pygments_lexer": "ipython3",
   "version": "3.6.2"
  }
 },
 "nbformat": 4,
 "nbformat_minor": 2
}
