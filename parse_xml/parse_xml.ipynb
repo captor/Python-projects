{
 "cells": [
  {
   "cell_type": "code",
   "execution_count": 105,
   "metadata": {},
   "outputs": [
    {
     "name": "stdout",
     "output_type": "stream",
     "text": [
      "ArpA protein [Streptomyces cattleya] >gi|337763364|emb|CCB72072.1| ArpA protein (plasmid) [Streptomyces cattleya NRRL 8057 = DSM 46488]\n",
      "0\n",
      "1\n",
      "2\n",
      "3\n",
      "4\n",
      "['ArpA protein [Streptomyces cattleya] >gi|337763364|emb|CCB72072.1| ArpA protein (plasmid) [Streptomyces cattleya NRRL 8057 = DSM 46488]', 'hypothetical protein SCATT_p06880 (plasmid) [Streptomyces cattleya NRRL 8057 = DSM 46488]', 'ArpA protein [Streptomyces alboverticillatus]', 'hypothetical protein [Streptomyces sp. NRRL S-31]', 'hypothetical protein [Streptomyces lavenduligriseus]']\n"
     ]
    }
   ],
   "source": [
    "import xml.etree.ElementTree as ET\n",
    "from collections import Counter\n",
    "\n",
    "tree = ET.parse('output.xml')\n",
    "root = tree.getroot()\n",
    "#print (root)\n",
    "#for child in root:\n",
    "#    print (child.tag, child.attrib)\n",
    "\n",
    "#print (root[8][0][4][0][2].tag, root[8][0][4][0][2].attrib) \n",
    "#print (root[8][0][4][0].tag, root[8][0][4][0].attrib)\n",
    "print (root[8][0][4][0][2].text) \n",
    "\n",
    "targetlist = [ ]\n",
    "#print (type(targetlist))\n",
    "#targetlist.append(root[8][0][4][0][2].text)\n",
    "#targetlist.append(root[8][0][4][1][2].text)\n",
    "#for idx in root.[8][0][4][idx][2]:\n",
    "#    targetlist = targetlist.append(root[8][0][4][idx][2].text)\n",
    "for idx in range(5):\n",
    "    print(idx)\n",
    "    targetlist.append(root[8][0][4][idx][2].text)\n",
    "print (targetlist)\n"
   ]
  },
  {
   "cell_type": "code",
   "execution_count": null,
   "metadata": {},
   "outputs": [],
   "source": []
  },
  {
   "cell_type": "code",
   "execution_count": null,
   "metadata": {
    "collapsed": true
   },
   "outputs": [],
   "source": []
  }
 ],
 "metadata": {
  "kernelspec": {
   "display_name": "Python 3",
   "language": "python",
   "name": "python3"
  },
  "language_info": {
   "codemirror_mode": {
    "name": "ipython",
    "version": 3
   },
   "file_extension": ".py",
   "mimetype": "text/x-python",
   "name": "python",
   "nbconvert_exporter": "python",
   "pygments_lexer": "ipython3",
   "version": "3.6.2"
  }
 },
 "nbformat": 4,
 "nbformat_minor": 2
}
