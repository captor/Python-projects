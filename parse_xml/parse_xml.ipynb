{
 "cells": [
  {
   "cell_type": "code",
   "execution_count": 2,
   "metadata": {},
   "outputs": [
    {
     "name": "stdout",
     "output_type": "stream",
     "text": [
      "BlastOutput {}\n"
     ]
    }
   ],
   "source": [
    "import xml.etree.ElementTree as ET\n",
    "# module parseing xml file\n",
    "\n",
    "tree = ET.parse('output.xml')\n",
    "root = tree.getroot()\n",
    "print (root.tag, root.attrib)\n",
    "## check the root(element): .tag and .attrib\n",
    "\n",
    "#for child in root:\n",
    "#    print (child.tag, child.attrib)\n",
    "## check how many children under root\n",
    "\n",
    "#print (root[8][0][4][0].tag)    \n",
    "#print (root[8][0][4][0][2].tag) \n",
    "#print (root[8][0][4][0][2].text) \n",
    "## try to locate the content I need from this file\n",
    "\n",
    "elem_list = []\n",
    "## create an empty list for all element tags\n",
    "for elem in root.iter():\n",
    "    elem_list.append(elem.tag)\n",
    "    ## collect all element tags into a list\n",
    "    #print(elemlist)\n",
    "N = elem_list.count('Hit')\n",
    "#print (N)\n",
    "## count the occurrences of 'Hit' tag in the list\n",
    "## use the number to determine range\n",
    "\n",
    "target_list = [ ]\n",
    "## create an empty list for genome names collection\n",
    "\n",
    "for idx in range(N):\n",
    "    target_list.append(root[8][0][4][idx][2].text)\n",
    "    ## collect all genome names into a list\n",
    "#print (target_list)\n"
   ]
  },
  {
   "cell_type": "code",
   "execution_count": 3,
   "metadata": {},
   "outputs": [
    {
     "name": "stdout",
     "output_type": "stream",
     "text": [
      "ArpA protein [Streptomyces cattleya] >gi|337763364|emb|CCB72072.1| ArpA protein (plasmid) [Streptomyces cattleya NRRL 8057 = DSM 46488]\n",
      "['Streptomyces', 'Pseudomonas', 'Catenulispora', 'Thiotrichales', 'Paraburkholderia', 'Burkholderia', 'Legionella', 'Amycolatopsis', 'Streptosporangium', 'Streptomyce', 'Actinoplanes', 'Tistrella', 'Marinobacter', 'Micromonospora', 'Salinispor', 'Salinispora', 'Cystobacter', 'Nocardia', 'Lentzea', 'Pseudomona', 'Pseudomonadales', 'Trichormus', 'Xiangella', 'Teredinibacter', 'Streptomycetaceae', 'Bacillus', 'Actinosynnema', 'Cohaesibacter', 'Silvanigrella', 'Nocardi', 'Pseudonocardia', 'Pseudonocardi', 'Saccharopolyspora', 'Variovorax', 'Bradyrhizobium', 'Pantoe', 'Paenibacillus', 'Enterobacter', 'Aureimona', 'Pantoea', 'Conexibacter', 'Aphanizomenon', 'Lysobacter', 'Kitasatospora', 'Burkholderiacea', 'Filomicrobiu', 'Candidatus', 'Thiocapsa', 'Methylophilus', 'Burkholderi', 'Pseudovibrio', '[Pseudomona', 'Leptolyngbya', 'Yersinia', 'Serratia', 'Rouxiella', 'Roseovarius', 'Rahnella', 'Sulfitobacte', 'Erwinia', 'Rahnell', 'Yersini', 'Ruegeria', 'uncultured', 'bacteria', 'Bemisia', 'Ilumatobacter', 'gamma', 'Dongia', 'Alphaproteobacteria', 'Serrati', 'Roseobacter', 'Acyrthosiphon', 'Loktanella', 'Buttiauxella', 'Klebsiella', 'Micromonas', 'Neptunomonas', 'Pseudorhodobacter', 'Marinomonas', 'Gammaproteobacteria', 'Leucothrix', 'Rhodobacteraceae', 'Shimia', 'Pandoraea', 'Enterobacteriaceae', 'Chania', 'Sneathiella', 'Marinomona', 'Enterobacterale', 'Colwellia', 'Chromatiales']\n"
     ]
    }
   ],
   "source": [
    "print (target_list[0])\n",
    "\n",
    "species_list = []\n",
    "for idx in range(N):\n",
    "    left  = target_list[idx].find('[')\n",
    "    right = target_list[idx].find(']')\n",
    "    species_list.append(target_list[idx][left+1:right])\n",
    "#print (species_list)\n",
    "\n",
    "genus_list = []\n",
    "for idx in range(N):\n",
    "    space = species_list[idx].find(' ')\n",
    "    genus_list.append(species_list[idx][:space])\n",
    "#print (genus_list)\n",
    "\n",
    "newlist = []\n",
    "for genus in genus_list:\n",
    "    if genus not in newlist:\n",
    "        newlist.append(genus)\n",
    "\n",
    "newlist.remove('Type-C')\n",
    "newlist.remove('Type-D')\n",
    "newlist.remove('Type-E')\n",
    "newlist.remove('Type-F')\n",
    "print (newlist)"
   ]
  },
  {
   "cell_type": "code",
   "execution_count": 10,
   "metadata": {},
   "outputs": [
    {
     "ename": "AttributeError",
     "evalue": "'_csv.writer' object has no attribute 'writecolumn'",
     "output_type": "error",
     "traceback": [
      "\u001b[1;31m---------------------------------------------------------------------------\u001b[0m",
      "\u001b[1;31mAttributeError\u001b[0m                            Traceback (most recent call last)",
      "\u001b[1;32m<ipython-input-10-f55fc6d103f1>\u001b[0m in \u001b[0;36m<module>\u001b[1;34m()\u001b[0m\n\u001b[0;32m      3\u001b[0m \u001b[0mfile\u001b[0m \u001b[1;33m=\u001b[0m \u001b[0mopen\u001b[0m\u001b[1;33m(\u001b[0m\u001b[1;34m'final_list.csv'\u001b[0m\u001b[1;33m,\u001b[0m\u001b[1;34m'w'\u001b[0m\u001b[1;33m)\u001b[0m\u001b[1;33m\u001b[0m\u001b[0m\n\u001b[0;32m      4\u001b[0m \u001b[0mwr\u001b[0m \u001b[1;33m=\u001b[0m \u001b[0mcsv\u001b[0m\u001b[1;33m.\u001b[0m\u001b[0mwriter\u001b[0m\u001b[1;33m(\u001b[0m\u001b[0mfile\u001b[0m\u001b[1;33m,\u001b[0m \u001b[0mdelimiter\u001b[0m\u001b[1;33m=\u001b[0m\u001b[1;34m','\u001b[0m\u001b[1;33m)\u001b[0m\u001b[1;33m\u001b[0m\u001b[0m\n\u001b[1;32m----> 5\u001b[1;33m \u001b[0mwr\u001b[0m\u001b[1;33m.\u001b[0m\u001b[0mwritecolumn\u001b[0m\u001b[1;33m(\u001b[0m\u001b[0mitem\u001b[0m \u001b[1;32mfor\u001b[0m \u001b[0mitem\u001b[0m \u001b[1;32min\u001b[0m \u001b[0mnewlist\u001b[0m\u001b[1;33m)\u001b[0m\u001b[1;33m\u001b[0m\u001b[0m\n\u001b[0m\u001b[0;32m      6\u001b[0m \u001b[0mfile\u001b[0m\u001b[1;33m.\u001b[0m\u001b[0mclose\u001b[0m\u001b[1;33m(\u001b[0m\u001b[1;33m)\u001b[0m\u001b[1;33m\u001b[0m\u001b[0m\n",
      "\u001b[1;31mAttributeError\u001b[0m: '_csv.writer' object has no attribute 'writecolumn'"
     ]
    }
   ],
   "source": [
    "import csv\n",
    "\n",
    "file = open('final_list.csv','w')\n",
    "wr = csv.writer(file, delimiter=',')\n",
    "wr.writecolumn(item for item in newlist)\n",
    "file.close()\n"
   ]
  },
  {
   "cell_type": "code",
   "execution_count": null,
   "metadata": {
    "collapsed": true
   },
   "outputs": [],
   "source": []
  }
 ],
 "metadata": {
  "kernelspec": {
   "display_name": "Python 3",
   "language": "python",
   "name": "python3"
  },
  "language_info": {
   "codemirror_mode": {
    "name": "ipython",
    "version": 3
   },
   "file_extension": ".py",
   "mimetype": "text/x-python",
   "name": "python",
   "nbconvert_exporter": "python",
   "pygments_lexer": "ipython3",
   "version": "3.6.2"
  }
 },
 "nbformat": 4,
 "nbformat_minor": 2
}
